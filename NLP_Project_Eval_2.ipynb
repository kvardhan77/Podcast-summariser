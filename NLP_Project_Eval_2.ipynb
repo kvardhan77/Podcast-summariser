{
  "nbformat": 4,
  "nbformat_minor": 0,
  "metadata": {
    "colab": {
      "provenance": []
    },
    "kernelspec": {
      "name": "python3",
      "display_name": "Python 3"
    },
    "language_info": {
      "name": "python"
    }
  },
  "cells": [
    {
      "cell_type": "code",
      "source": [
        "! pip install SpeechRecognition"
      ],
      "metadata": {
        "colab": {
          "base_uri": "https://localhost:8080/"
        },
        "id": "P6llxxbOSUQg",
        "outputId": "461a5e4e-7fad-49da-e801-ba07ed12f23a"
      },
      "execution_count": 5,
      "outputs": [
        {
          "output_type": "stream",
          "name": "stdout",
          "text": [
            "Collecting SpeechRecognition\n",
            "  Downloading SpeechRecognition-3.10.3-py2.py3-none-any.whl (32.8 MB)\n",
            "\u001b[2K     \u001b[90m━━━━━━━━━━━━━━━━━━━━━━━━━━━━━━━━━━━━━━━━\u001b[0m \u001b[32m32.8/32.8 MB\u001b[0m \u001b[31m40.7 MB/s\u001b[0m eta \u001b[36m0:00:00\u001b[0m\n",
            "\u001b[?25hRequirement already satisfied: requests>=2.26.0 in /usr/local/lib/python3.10/dist-packages (from SpeechRecognition) (2.31.0)\n",
            "Requirement already satisfied: typing-extensions in /usr/local/lib/python3.10/dist-packages (from SpeechRecognition) (4.11.0)\n",
            "Requirement already satisfied: charset-normalizer<4,>=2 in /usr/local/lib/python3.10/dist-packages (from requests>=2.26.0->SpeechRecognition) (3.3.2)\n",
            "Requirement already satisfied: idna<4,>=2.5 in /usr/local/lib/python3.10/dist-packages (from requests>=2.26.0->SpeechRecognition) (3.7)\n",
            "Requirement already satisfied: urllib3<3,>=1.21.1 in /usr/local/lib/python3.10/dist-packages (from requests>=2.26.0->SpeechRecognition) (2.0.7)\n",
            "Requirement already satisfied: certifi>=2017.4.17 in /usr/local/lib/python3.10/dist-packages (from requests>=2.26.0->SpeechRecognition) (2024.2.2)\n",
            "Installing collected packages: SpeechRecognition\n",
            "Successfully installed SpeechRecognition-3.10.3\n"
          ]
        }
      ]
    },
    {
      "cell_type": "code",
      "execution_count": 8,
      "metadata": {
        "colab": {
          "base_uri": "https://localhost:8080/"
        },
        "id": "2e93u2cKQwCB",
        "outputId": "3775c45c-e20e-4bb8-b56e-cb2fe0a39b4b"
      },
      "outputs": [
        {
          "output_type": "stream",
          "name": "stdout",
          "text": [
            "Text from audio: hello everyone and welcome this is the rapid Planet podcast today is February 6th 2012 we're going to be talking about the latest and greatest technology news from the past 2 weeks but this episode is a little bit different because well we got new Mike's people that's right brand new podcasting Mike's in the house you can definitely hear a difference of how much better these sound so I'm really excited to get this and let's try them out let's get to some tech news hey Google\n"
          ]
        }
      ],
      "source": [
        "import speech_recognition as sr\n",
        "\n",
        "def audio_to_text(audio_file_path):\n",
        "    # Initialize the recognizer\n",
        "    recognizer = sr.Recognizer()\n",
        "\n",
        "    # Load the audio file\n",
        "    with sr.AudioFile(audio_file_path) as source:\n",
        "        # Adjust for ambient noise\n",
        "        recognizer.adjust_for_ambient_noise(source)\n",
        "\n",
        "        # Record the audio\n",
        "        audio = recognizer.record(source)\n",
        "\n",
        "    try:\n",
        "        # Recognize speech using Google Web Speech API\n",
        "        text = recognizer.recognize_google(audio)\n",
        "        return text\n",
        "    except sr.UnknownValueError:\n",
        "        print(\"Google Web Speech API could not understand audio\")\n",
        "    except sr.RequestError as e:\n",
        "        print(f\"Could not request results from Google Web Speech API; {e}\")\n",
        "\n",
        "# Specify the path to your audio file\n",
        "audio_file_path = \"/content/rpp162.wav\"\n",
        "\n",
        "# Convert audio to text\n",
        "result = audio_to_text(audio_file_path)\n",
        "\n",
        "# Print the result\n",
        "print(\"Text from audio:\", result)\n"
      ]
    },
    {
      "cell_type": "code",
      "source": [
        "!pip install pydub"
      ],
      "metadata": {
        "colab": {
          "base_uri": "https://localhost:8080/"
        },
        "id": "asnaxKjyTD8x",
        "outputId": "ebb24d84-fcc8-43e3-f266-7fea070592df"
      },
      "execution_count": 9,
      "outputs": [
        {
          "output_type": "stream",
          "name": "stdout",
          "text": [
            "Collecting pydub\n",
            "  Downloading pydub-0.25.1-py2.py3-none-any.whl (32 kB)\n",
            "Installing collected packages: pydub\n",
            "Successfully installed pydub-0.25.1\n"
          ]
        }
      ]
    },
    {
      "cell_type": "code",
      "source": [
        "from pydub import AudioSegment\n",
        "import os\n",
        "\n",
        "def split_audio(input_file, output_folder, segment_duration=15):\n",
        "    # Create output folder if it doesn't exist\n",
        "    if not os.path.exists(output_folder):\n",
        "        os.makedirs(output_folder)\n",
        "\n",
        "    audio = AudioSegment.from_wav(input_file)\n",
        "    audio_duration = len(audio)\n",
        "\n",
        "    for start_time in range(0, audio_duration, segment_duration * 1000):\n",
        "        end_time = min(start_time + segment_duration * 1000, audio_duration)\n",
        "        segment = audio[start_time:end_time]\n",
        "        segment_path = os.path.join(output_folder, f\"segment_{start_time//1000}-{end_time//1000}.wav\")\n",
        "\n",
        "        try:\n",
        "            segment.export(segment_path, format=\"wav\")\n",
        "            print(f\"Segment exported: {segment_path}\")\n",
        "        except Exception as e:\n",
        "            print(f\"Error exporting segment {start_time}-{end_time}: {e}\")\n",
        "\n",
        "# Specify the path to your large audio file\n",
        "large_audio_file_path = \"/content/rpp162.wav\"\n",
        "\n",
        "# Specify the output folder for segments\n",
        "output_folder = \"/content/audio_segments\"\n",
        "\n",
        "# Split the audio file into segments (15-second segments by default)\n",
        "split_audio(large_audio_file_path, output_folder)\n",
        "\n"
      ],
      "metadata": {
        "colab": {
          "base_uri": "https://localhost:8080/"
        },
        "id": "3HWv5FJDTUCs",
        "outputId": "04eed335-91ea-458f-8f59-62816c830db7"
      },
      "execution_count": 14,
      "outputs": [
        {
          "output_type": "stream",
          "name": "stdout",
          "text": [
            "Segment exported: /content/audio_segments/segment_0-15.wav\n",
            "Segment exported: /content/audio_segments/segment_15-30.wav\n",
            "Segment exported: /content/audio_segments/segment_30-45.wav\n",
            "Segment exported: /content/audio_segments/segment_45-60.wav\n",
            "Segment exported: /content/audio_segments/segment_60-75.wav\n",
            "Segment exported: /content/audio_segments/segment_75-90.wav\n",
            "Segment exported: /content/audio_segments/segment_90-101.wav\n"
          ]
        }
      ]
    },
    {
      "cell_type": "code",
      "source": [
        "from pydub import AudioSegment\n",
        "import speech_recognition as sr\n",
        "\n",
        "def transcribe_audio_segment(segment_file):\n",
        "    recognizer = sr.Recognizer()\n",
        "\n",
        "    with sr.AudioFile(segment_file) as source:\n",
        "        audio_data = recognizer.record(source)\n",
        "\n",
        "    try:\n",
        "        text = recognizer.recognize_google(audio_data)\n",
        "        return text\n",
        "    except sr.UnknownValueError:\n",
        "        print(f\"Speech recognition could not understand audio: {segment_file}\")\n",
        "        return \"\"\n",
        "    except sr.RequestError as e:\n",
        "        print(f\"Speech recognition request error: {e}\")\n",
        "        return \"\"\n",
        "\n",
        "def process_audio_file(input_audio_file, segment_duration=60):\n",
        "    audio = AudioSegment.from_wav(input_audio_file)\n",
        "    audio_duration = len(audio)\n",
        "\n",
        "    segments = []\n",
        "    for start_time in range(0, audio_duration, segment_duration * 1000):\n",
        "        end_time = min(start_time + segment_duration * 1000, audio_duration)\n",
        "        segment = audio[start_time:end_time]\n",
        "\n",
        "        # Export segment to temporary WAV file\n",
        "        segment_file = f\"segment_{start_time//1000}-{end_time//1000}.wav\"\n",
        "        segment.export(segment_file, format=\"wav\")\n",
        "\n",
        "        # Transcribe the audio segment\n",
        "        text = transcribe_audio_segment(segment_file)\n",
        "        segments.append(text)\n",
        "\n",
        "        # Clean up temporary segment file\n",
        "        os.remove(segment_file)\n",
        "\n",
        "    return segments\n",
        "\n",
        "# Specify the path to your large audio file\n",
        "large_audio_file_path = \"/content/rpp162.wav\"\n",
        "\n",
        "# Process the audio file in segments (60-second segments by default)\n",
        "transcribed_segments = process_audio_file(large_audio_file_path)\n",
        "\n",
        "# Print the transcribed text for each segment\n",
        "for i, segment_text in enumerate(transcribed_segments, start=1):\n",
        "    print(f\"Segment {i} Transcription: {segment_text}\")\n"
      ],
      "metadata": {
        "colab": {
          "base_uri": "https://localhost:8080/"
        },
        "id": "XzJa5o6MXGbG",
        "outputId": "5aca3a6a-c88b-4fcb-b686-26c906c27180"
      },
      "execution_count": 21,
      "outputs": [
        {
          "output_type": "stream",
          "name": "stdout",
          "text": [
            "Segment 1 Transcription: hello everyone and welcome this is the rapid Planet podcast today is February 6th 2012 we're going to be talking about the latest and greatest technology news from the past 2 weeks but this episode is a little bit different because well we got new Mike's people that's right brand new podcasting Mike's in the house you can definitely hear a difference of how much better these sound so really excited to get this and let's try them out let's get to some tech news\n",
            "Segment 2 Transcription: and we're ready to talk about some tech news so Microsoft now it's recently that it's going to be getting rid of its developer conference and my Xbox and it's kind of interesting because they just recently announced that they were pulling out of Cs 2012\n"
          ]
        }
      ]
    }
  ]
}